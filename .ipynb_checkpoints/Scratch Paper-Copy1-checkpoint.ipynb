{
 "cells": [
  {
   "cell_type": "code",
   "execution_count": 1,
   "metadata": {},
   "outputs": [],
   "source": [
    "from scipy.optimize import fmin_slsqp\n",
    "import matplotlib.pyplot as plt\n",
    "import pandas as pd\n",
    "import numpy as np\n",
    "from math import log\n",
    "import os\n",
    "\n",
    "from pulp import *"
   ]
  },
  {
   "cell_type": "code",
   "execution_count": 2,
   "metadata": {},
   "outputs": [
    {
     "ename": "FileNotFoundError",
     "evalue": "[WinError 2] The system cannot find the file specified: 'D:\\\\OneDrive - Georgia State University\\\\Data Science\\\\Personal_Project\\\\Optimization - Loan Repayment'",
     "output_type": "error",
     "traceback": [
      "\u001b[1;31m---------------------------------------------------------------------------\u001b[0m",
      "\u001b[1;31mFileNotFoundError\u001b[0m                         Traceback (most recent call last)",
      "\u001b[1;32m<ipython-input-2-8314934a9bc5>\u001b[0m in \u001b[0;36m<module>\u001b[1;34m\u001b[0m\n\u001b[1;32m----> 1\u001b[1;33m \u001b[0mos\u001b[0m\u001b[1;33m.\u001b[0m\u001b[0mchdir\u001b[0m\u001b[1;33m(\u001b[0m\u001b[1;34m'D:\\OneDrive - Georgia State University\\Data Science\\Personal_Project\\Optimization - Loan Repayment'\u001b[0m\u001b[1;33m)\u001b[0m\u001b[1;33m\u001b[0m\u001b[1;33m\u001b[0m\u001b[0m\n\u001b[0m",
      "\u001b[1;31mFileNotFoundError\u001b[0m: [WinError 2] The system cannot find the file specified: 'D:\\\\OneDrive - Georgia State University\\\\Data Science\\\\Personal_Project\\\\Optimization - Loan Repayment'"
     ]
    }
   ],
   "source": [
    "os.chdir('D:\\OneDrive - Georgia State University\\Data Science\\Personal_Project\\Optimization - Loan Repayment')"
   ]
  },
  {
   "cell_type": "markdown",
   "metadata": {},
   "source": [
    "Reference:\n",
    "\n",
    "1) [Linear Programming in Python](https://hackernoon.com/linear-programming-in-python-a-straight-forward-tutorial-a0d152618121)"
   ]
  },
  {
   "cell_type": "markdown",
   "metadata": {},
   "source": [
    "## Compound Interest\n",
    "\n"
   ]
  },
  {
   "cell_type": "code",
   "execution_count": null,
   "metadata": {},
   "outputs": [],
   "source": [
    "def compound_interest(PV, APR, T):\n",
    "    FV = PV(1+(APR/12)**(12*T))\n",
    "    return FV"
   ]
  },
  {
   "cell_type": "markdown",
   "metadata": {},
   "source": [
    "# Plan #1) Minimum Payment in certain period "
   ]
  },
  {
   "cell_type": "markdown",
   "metadata": {},
   "source": [
    "## 1-1) Formula"
   ]
  },
  {
   "cell_type": "markdown",
   "metadata": {},
   "source": [
    "![Minimum_Payment](image/Minimum_Payment.jpg)"
   ]
  },
  {
   "cell_type": "code",
   "execution_count": null,
   "metadata": {},
   "outputs": [],
   "source": [
    "def minimum_payment(PV, APR, N):\n",
    "    i = (APR/12)/100\n",
    "    PMT = PV * i /(1-(1+i)**(-N))\n",
    "    \n",
    "    return PMT"
   ]
  },
  {
   "cell_type": "code",
   "execution_count": null,
   "metadata": {},
   "outputs": [],
   "source": [
    "minimum_payment(100, 5, 1)"
   ]
  },
  {
   "cell_type": "code",
   "execution_count": null,
   "metadata": {},
   "outputs": [],
   "source": [
    "10.184 + 41.108 + 41.108"
   ]
  },
  {
   "cell_type": "markdown",
   "metadata": {},
   "source": [
    "## 1-2) Optimization"
   ]
  },
  {
   "cell_type": "code",
   "execution_count": null,
   "metadata": {},
   "outputs": [],
   "source": [
    "def payment_per_month(expected_scores, prices, positions, clubs, difficulties, chance_of_playing_next_round, total_budget=100, sub_factor=0.2, difficulty=2, chance_next = 75):\n",
    "    num_players = len(expected_scores)\n",
    "    model = pulp.LpProblem(\"Constrained value maximization\", pulp.LpMaximize)\n",
    "    \n",
    "    decisions = [\n",
    "        pulp.LpVariable(\"x{}\".format(i), lowBound=0, upBound=1, cat='Integer')\n",
    "        for i in range(num_players)\n",
    "    ]\n",
    "    captain_decisions = [\n",
    "        pulp.LpVariable(\"y{}\".format(i), lowBound=0, upBound=1, cat='Integer')\n",
    "        for i in range(num_players)\n",
    "    ]\n",
    "    sub_decisions = [\n",
    "        pulp.LpVariable(\"z{}\".format(i), lowBound=0, upBound=1, cat='Integer')\n",
    "        for i in range(num_players)\n",
    "    ]\n",
    "\n",
    "\n",
    "    # objective function:\n",
    "    model += sum((captain_decisions[i] + decisions[i] + (sub_decisions[i]*sub_factor)) * expected_scores[i]\n",
    "                 for i in range(num_players)), \"Objective\"\n",
    "\n",
    "    # cost constraint\n",
    "    model += sum((decisions[i] + sub_decisions[i]) * prices[i] for i in range(num_players)) <= total_budget  # total cost\n",
    "\n",
    "    # position constraints and difficulty contraints and chance_of_playing_next_round \n",
    "    # 1 starting goalkeeper\n",
    "    model += sum(decisions[i] for i in range(num_players) if positions[i] == 1 and difficulties[i] <= difficulty and chance_of_playing_next_round[i] > chance_next) == 1\n",
    "    # 2 total goalkeepers\n",
    "    model += sum(decisions[i] + sub_decisions[i] for i in range(num_players) if positions[i] == 1) == 2\n",
    "\n",
    "    # 3-5 starting defenders\n",
    "    model += sum(decisions[i] for i in range(num_players) if positions[i] == 2 and difficulties[i] <= difficulty and chance_of_playing_next_round[i] > chance_next) >= 3\n",
    "    model += sum(decisions[i] for i in range(num_players) if positions[i] == 2 and difficulties[i] <= difficulty and chance_of_playing_next_round[i] > chance_next) <= 5\n",
    "    # 5 total defenders\n",
    "    model += sum(decisions[i] + sub_decisions[i] for i in range(num_players) if positions[i] == 2) == 5\n",
    "\n",
    "    # 3-5 starting midfielders\n",
    "    model += sum(decisions[i] for i in range(num_players) if positions[i] == 3 and difficulties[i] <= difficulty and chance_of_playing_next_round[i] > chance_next) >= 3\n",
    "    model += sum(decisions[i] for i in range(num_players) if positions[i] == 3 and difficulties[i] <= difficulty and chance_of_playing_next_round[i] > chance_next) <= 5\n",
    "    # 5 total midfielders\n",
    "    model += sum(decisions[i] + sub_decisions[i] for i in range(num_players) if positions[i] == 3) == 5\n",
    "\n",
    "    # 1-3 starting attackers\n",
    "    model += sum(decisions[i] for i in range(num_players) if positions[i] == 4 and difficulties[i] <= difficulty and chance_of_playing_next_round[i] > chance_next) >= 1\n",
    "    model += sum(decisions[i] for i in range(num_players) if positions[i] == 4 and difficulties[i] <= difficulty and chance_of_playing_next_round[i] > chance_next) <= 3\n",
    "    # 3 total attackers\n",
    "    model += sum(decisions[i] + sub_decisions[i] for i in range(num_players) if positions[i] == 4) == 3\n",
    "\n",
    "    # club constraint\n",
    "    for club_id in np.unique(clubs):\n",
    "        model += sum(decisions[i] + sub_decisions[i] for i in range(num_players) if clubs[i] == club_id) <= 3  # max 3 players\n",
    "\n",
    "    model += sum(decisions) == 11  # total team size\n",
    "    model += sum(captain_decisions) == 1  # 1 captain\n",
    "    \n",
    "    for i in range(num_players):  \n",
    "        model += (decisions[i] - captain_decisions[i]) >= 0  # captain must also be on team\n",
    "        model += (decisions[i] + sub_decisions[i]) <= 1  # subs must not be on team\n",
    "\n",
    "    \n",
    "    \n",
    "    model.solve()\n",
    "    status = model.solve()\n",
    "    print(f'This problem is {LpStatus[status]}')\n",
    "\n",
    "    print(\"Total expected score = {}\".format(model.objective.value()))\n",
    "\n",
    "    return decisions, captain_decisions, sub_decisions\n"
   ]
  },
  {
   "cell_type": "markdown",
   "metadata": {},
   "source": [
    "## 1-3) Calculating the outstanding balance"
   ]
  },
  {
   "cell_type": "markdown",
   "metadata": {},
   "source": [
    "![Remaining_Balance](image/Remaining_Balance.jpg)"
   ]
  },
  {
   "cell_type": "code",
   "execution_count": null,
   "metadata": {},
   "outputs": [],
   "source": [
    "def remaining_balance(PV, PMT, APR, n):\n",
    "    \n",
    "    i = (APR/12)/100\n",
    "    B = (PV*(1+i)**n) - ((PMT*((1+i)**(n)-1)/i))\n",
    "    \n",
    "    return B"
   ]
  },
  {
   "cell_type": "code",
   "execution_count": null,
   "metadata": {},
   "outputs": [],
   "source": [
    "remaining_balance(300, 10, 6, 10)"
   ]
  },
  {
   "cell_type": "markdown",
   "metadata": {},
   "source": [
    "## Constraints"
   ]
  },
  {
   "cell_type": "raw",
   "metadata": {},
   "source": [
    "B >= 0"
   ]
  },
  {
   "cell_type": "markdown",
   "metadata": {},
   "source": [
    "## 1-4) How long does it take to pay off with P amount"
   ]
  },
  {
   "cell_type": "markdown",
   "metadata": {},
   "source": [
    "![How_long_before_the_debt_payoff](image/How_long_before_the_debt_payoff.jpg)"
   ]
  },
  {
   "cell_type": "code",
   "execution_count": null,
   "metadata": {},
   "outputs": [],
   "source": [
    "'''payment must exceeds the accrued interest each month\n",
    "accrued interest = PV * (1+i) '''\n",
    "\n",
    "def how_long(PV, APR, PMT):\n",
    "    i = (APR/12)/100\n",
    "    accrued_interest = PV * i\n",
    "    try:\n",
    "        N = round(-(log(1-((PV*i)/PMT)))/log(1+i))\n",
    "        return N\n",
    "    \n",
    "    except:\n",
    "        print(f\"Your payment must be greater than accrued_interest which is {'%.2f' % accrued_interest}.\")\n",
    "    \n"
   ]
  },
  {
   "cell_type": "code",
   "execution_count": null,
   "metadata": {},
   "outputs": [],
   "source": [
    "###"
   ]
  },
  {
   "cell_type": "code",
   "execution_count": 11,
   "metadata": {},
   "outputs": [
    {
     "name": "stdout",
     "output_type": "stream",
     "text": [
      "Your payment must be greater than accrued_interest which is 0.50.\n"
     ]
    }
   ],
   "source": [
    "how_long(100, 6, 10)"
   ]
  },
  {
   "cell_type": "code",
   "execution_count": 6,
   "metadata": {},
   "outputs": [
    {
     "name": "stderr",
     "output_type": "stream",
     "text": [
      "D:\\Programming\\Anaconda\\envs\\fpl\\lib\\site-packages\\ipykernel_launcher.py:12: RuntimeWarning: divide by zero encountered in true_divide\n",
      "  if sys.path[0] == '':\n"
     ]
    },
    {
     "ename": "TypeError",
     "evalue": "'Logger' object is not callable",
     "output_type": "error",
     "traceback": [
      "\u001b[1;31m---------------------------------------------------------------------------\u001b[0m",
      "\u001b[1;31mTypeError\u001b[0m                                 Traceback (most recent call last)",
      "\u001b[1;32m<ipython-input-6-c54a21d2ef5b>\u001b[0m in \u001b[0;36m<module>\u001b[1;34m\u001b[0m\n\u001b[0;32m     10\u001b[0m \u001b[0mY\u001b[0m \u001b[1;33m=\u001b[0m \u001b[0mnp\u001b[0m\u001b[1;33m.\u001b[0m\u001b[0marray\u001b[0m\u001b[1;33m(\u001b[0m\u001b[0mrange\u001b[0m\u001b[1;33m(\u001b[0m\u001b[1;36m100\u001b[0m\u001b[1;33m)\u001b[0m\u001b[1;33m)\u001b[0m\u001b[1;33m\u001b[0m\u001b[1;33m\u001b[0m\u001b[0m\n\u001b[0;32m     11\u001b[0m \u001b[1;33m\u001b[0m\u001b[0m\n\u001b[1;32m---> 12\u001b[1;33m \u001b[0mz\u001b[0m \u001b[1;33m=\u001b[0m \u001b[1;33m(\u001b[0m\u001b[1;33m-\u001b[0m\u001b[1;33m(\u001b[0m\u001b[0mlog\u001b[0m\u001b[1;33m(\u001b[0m\u001b[1;36m1\u001b[0m\u001b[1;33m-\u001b[0m\u001b[1;33m(\u001b[0m\u001b[1;33m(\u001b[0m\u001b[0mP1\u001b[0m\u001b[1;33m*\u001b[0m\u001b[0mI1\u001b[0m\u001b[1;33m)\u001b[0m\u001b[1;33m/\u001b[0m\u001b[0mX\u001b[0m\u001b[1;33m)\u001b[0m\u001b[1;33m)\u001b[0m\u001b[1;33m)\u001b[0m\u001b[1;33m/\u001b[0m\u001b[0mlog\u001b[0m\u001b[1;33m(\u001b[0m\u001b[1;36m1\u001b[0m\u001b[1;33m+\u001b[0m\u001b[0mI1\u001b[0m\u001b[1;33m)\u001b[0m\u001b[1;33m)\u001b[0m \u001b[1;33m+\u001b[0m \u001b[1;33m(\u001b[0m\u001b[1;33m-\u001b[0m\u001b[1;33m(\u001b[0m\u001b[0mlog\u001b[0m\u001b[1;33m(\u001b[0m\u001b[1;36m1\u001b[0m\u001b[1;33m-\u001b[0m\u001b[1;33m(\u001b[0m\u001b[1;33m(\u001b[0m\u001b[0mP2\u001b[0m\u001b[1;33m*\u001b[0m\u001b[0mI2\u001b[0m\u001b[1;33m)\u001b[0m\u001b[1;33m/\u001b[0m\u001b[0mY\u001b[0m\u001b[1;33m)\u001b[0m\u001b[1;33m)\u001b[0m\u001b[1;33m)\u001b[0m\u001b[1;33m/\u001b[0m\u001b[0mlog\u001b[0m\u001b[1;33m(\u001b[0m\u001b[1;36m1\u001b[0m\u001b[1;33m+\u001b[0m\u001b[0mI2\u001b[0m\u001b[1;33m)\u001b[0m\u001b[1;33m)\u001b[0m\u001b[1;33m\u001b[0m\u001b[1;33m\u001b[0m\u001b[0m\n\u001b[0m",
      "\u001b[1;31mTypeError\u001b[0m: 'Logger' object is not callable"
     ]
    }
   ],
   "source": [
    "P1 = 300\n",
    "I1 = 1/200\n",
    "m1 = 20\n",
    "\n",
    "P2 = 2000\n",
    "I2 = 1/300\n",
    "m2 = 50\n",
    "\n",
    "X = np.array(range(100))\n",
    "Y = np.array(range(100))\n",
    "\n",
    "z = (-(log(1-((P1*I1)/X)))/log(1+I1)) + (-(log(1-((P2*I2)/Y)))/log(1+I2))"
   ]
  },
  {
   "cell_type": "code",
   "execution_count": 7,
   "metadata": {},
   "outputs": [
    {
     "data": {
      "image/png": "[encoded data removed]",
      "text/plain": [
       "<Figure size 432x288 with 1 Axes>"
      ]
     },
     "metadata": {
      "needs_background": "light"
     },
     "output_type": "display_data"
    }
   ],
   "source": [
    "# Import our modules that we are using\n",
    "import matplotlib.pyplot as plt\n",
    "import numpy as np\n",
    "\n",
    "# Create the vectors X and Y\n",
    "x = np.array(range(100))\n",
    "y = x ** 2\n",
    "\n",
    "# Create the plot\n",
    "plt.plot(x,y,label='y = x**2')\n",
    "\n",
    "# Add a title\n",
    "plt.title('My first Plot with Python')\n",
    "\n",
    "# Add X and y Label\n",
    "plt.xlabel('x axis')\n",
    "plt.ylabel('y axis')\n",
    "\n",
    "# Add a grid\n",
    "plt.grid(alpha=.4,linestyle='--')\n",
    "\n",
    "# Add a Legend\n",
    "plt.legend()\n",
    "\n",
    "# Show the plot\n",
    "plt.show()"
   ]
  },
  {
   "cell_type": "code",
   "execution_count": null,
   "metadata": {},
   "outputs": [],
   "source": []
  },
  {
   "cell_type": "markdown",
   "metadata": {},
   "source": [
    "# 2) Optimizing for case #2 which optimizes the distribution of payment"
   ]
  },
  {
   "cell_type": "code",
   "execution_count": 12,
   "metadata": {},
   "outputs": [],
   "source": [
    "My_Loans = {\n",
    "    'Name' : ['BOA', 'Sapire','Southwest','SallieMae'],\n",
    "    'Principal' : [350.59, 1672.04, 597.32, 766.63],\n",
    "    'APR' : [6, 4, 4, 5]\n",
    "}\n",
    "My_Loans = pd.DataFrame(My_Loans)\n"
   ]
  },
  {
   "cell_type": "code",
   "execution_count": 14,
   "metadata": {},
   "outputs": [],
   "source": [
    "def how_long(PV, APR, Max_PMT):\n",
    "    num_loans = len(PV)\n",
    "    model = pulp.LpProblem(\"Repayment Period Minimization\", pulp.LpMinimize)\n",
    "    \n",
    "    repayment_amount = [\n",
    "        pulp.LpVariable(\"x{}\".format(i), lowBound=0, cat='Continuous')\n",
    "        for i in range(num_loans)\n",
    "    ]\n",
    "    \n",
    "\n",
    "    # objective function:\n",
    "    model += sum(((-(log(1-((PV[i]*((APR[i]/12)/100))/(repayment_amount[i]))))/log(1+((APR[i]/12)/100)))) \n",
    "                 for i in range(num_loans)), \"Objective\"\n",
    "\n",
    "    # greater than accrued interest constraint\n",
    "    model += (repayment_amount[i] for i in range(num_loans))  > (PV[i]*(APR[i]/12)/100)\n",
    "\n",
    "    # less than the total repayment amount\n",
    "    model += sum(repayment_amount[i] for i in range(num_loans)) <= Max_PMT\n",
    "    \n",
    "    \n",
    "    model.solve()\n",
    "    status = model.solve()\n",
    "    print(f'This problem is {LpStatus[status]}')\n",
    "\n",
    "    print(\"Total time takes = {}\".format(model.objective.value()))\n",
    "\n",
    "    return repayment_amount\n"
   ]
  },
  {
   "cell_type": "code",
   "execution_count": 38,
   "metadata": {},
   "outputs": [
    {
     "ename": "TypeError",
     "evalue": "unsupported operand type(s) for /: 'float' and 'LpVariable'",
     "output_type": "error",
     "traceback": [
      "\u001b[1;31m---------------------------------------------------------------------------\u001b[0m",
      "\u001b[1;31mTypeError\u001b[0m                                 Traceback (most recent call last)",
      "\u001b[1;32m<ipython-input-38-e8a2d93d278c>\u001b[0m in \u001b[0;36m<module>\u001b[1;34m\u001b[0m\n\u001b[0;32m     12\u001b[0m \u001b[0mMax_PMT\u001b[0m \u001b[1;33m=\u001b[0m \u001b[1;36m2000\u001b[0m\u001b[1;33m\u001b[0m\u001b[1;33m\u001b[0m\u001b[0m\n\u001b[0;32m     13\u001b[0m \u001b[1;33m\u001b[0m\u001b[0m\n\u001b[1;32m---> 14\u001b[1;33m \u001b[0mperiod\u001b[0m \u001b[1;33m=\u001b[0m \u001b[0mhow_long\u001b[0m\u001b[1;33m(\u001b[0m\u001b[0mPV\u001b[0m\u001b[1;33m,\u001b[0m \u001b[0mAPR\u001b[0m\u001b[1;33m,\u001b[0m \u001b[0mMax_PMT\u001b[0m\u001b[1;33m)\u001b[0m\u001b[1;33m\u001b[0m\u001b[1;33m\u001b[0m\u001b[0m\n\u001b[0m",
      "\u001b[1;32m<ipython-input-37-2af54fa19916>\u001b[0m in \u001b[0;36mhow_long\u001b[1;34m(PV, APR, Max_PMT)\u001b[0m\n\u001b[0;32m     11\u001b[0m     \u001b[1;31m# objective function:\u001b[0m\u001b[1;33m\u001b[0m\u001b[1;33m\u001b[0m\u001b[1;33m\u001b[0m\u001b[0m\n\u001b[0;32m     12\u001b[0m     model += sum(((-(log(1-((PV[i]*((APR[i]/12)/100))/(repayment_amount[i]))))/log(1+((APR[i]/12)/100)))) \n\u001b[1;32m---> 13\u001b[1;33m                  for i in range(num_loans)), \"Objective\"\n\u001b[0m\u001b[0;32m     14\u001b[0m \u001b[1;33m\u001b[0m\u001b[0m\n\u001b[0;32m     15\u001b[0m     \u001b[1;31m# greater than accrued interest constraint\u001b[0m\u001b[1;33m\u001b[0m\u001b[1;33m\u001b[0m\u001b[1;33m\u001b[0m\u001b[0m\n",
      "\u001b[1;32m<ipython-input-37-2af54fa19916>\u001b[0m in \u001b[0;36m<genexpr>\u001b[1;34m(.0)\u001b[0m\n\u001b[0;32m     11\u001b[0m     \u001b[1;31m# objective function:\u001b[0m\u001b[1;33m\u001b[0m\u001b[1;33m\u001b[0m\u001b[1;33m\u001b[0m\u001b[0m\n\u001b[0;32m     12\u001b[0m     model += sum(((-(log(1-((PV[i]*((APR[i]/12)/100))/(repayment_amount[i]))))/log(1+((APR[i]/12)/100)))) \n\u001b[1;32m---> 13\u001b[1;33m                  for i in range(num_loans)), \"Objective\"\n\u001b[0m\u001b[0;32m     14\u001b[0m \u001b[1;33m\u001b[0m\u001b[0m\n\u001b[0;32m     15\u001b[0m     \u001b[1;31m# greater than accrued interest constraint\u001b[0m\u001b[1;33m\u001b[0m\u001b[1;33m\u001b[0m\u001b[1;33m\u001b[0m\u001b[0m\n",
      "\u001b[1;31mTypeError\u001b[0m: unsupported operand type(s) for /: 'float' and 'LpVariable'"
     ]
    }
   ],
   "source": [
    "# Constants\n",
    "# Create a list of the food items\n",
    "loan_items = My_Loans['Name']\n",
    "# Principals\n",
    "PV = My_Loans['Principal']\n",
    "\n",
    "# APR\n",
    "APR = My_Loans['APR']\n",
    "\n",
    "\n",
    "# Maximum PMT ----- This will be an input\n",
    "Max_PMT = 2000\n",
    "\n",
    "period = how_long(PV, APR, Max_PMT)"
   ]
  },
  {
   "cell_type": "code",
   "execution_count": null,
   "metadata": {},
   "outputs": [],
   "source": []
  },
  {
   "cell_type": "code",
   "execution_count": null,
   "metadata": {},
   "outputs": [],
   "source": []
  },
  {
   "cell_type": "code",
   "execution_count": null,
   "metadata": {},
   "outputs": [],
   "source": []
  },
  {
   "cell_type": "code",
   "execution_count": null,
   "metadata": {},
   "outputs": [],
   "source": [
    "it = (APR[i]/12)/100\n",
    "round(-(log(1-((PV*it)/PMT)))/log(1+it))\n",
    "\n",
    "'''payment must exceeds the accrued interest each month\n",
    "accrued interest = PV * (1+i) '''\n",
    "\n",
    "def how_long(PV, APR, PMT):\n",
    "    i = (APR/12)/100\n",
    "    accrued_interest = PV * i\n",
    "    try:\n",
    "        N = round(-(log(1-((PV*i)/PMT)))/log(1+i))\n",
    "        return N\n",
    "    \n",
    "    except:\n",
    "        print(f\"Your payment must be greater than accrued_interest which is {'%.2f' % accrued_interest}.\")\n",
    "    \n"
   ]
  },
  {
   "cell_type": "code",
   "execution_count": 14,
   "metadata": {},
   "outputs": [],
   "source": [
    "# Decision Variable --- PMT\n",
    "\n",
    "num_loans = len(My_Loans) \n",
    "loan_items\n",
    "PMT = LpVariable.dicts(\"PMT\", list(range(num_loans)), 0, Max_PMT, cat=\"Continuous\")"
   ]
  },
  {
   "cell_type": "raw",
   "metadata": {},
   "source": [
    "- each payment in allocation must be greater than 0 and less than or equal to the PV\n",
    "- total payment should be less than the affordable payment."
   ]
  },
  {
   "cell_type": "code",
   "execution_count": 50,
   "metadata": {},
   "outputs": [],
   "source": [
    "# Goal Constraint\n",
    "c1 = sum(PMT) == Max_PMT\n",
    "\n",
    "# adding the constraints to the problem\n",
    "problem += c1"
   ]
  },
  {
   "cell_type": "code",
   "execution_count": null,
   "metadata": {},
   "outputs": [],
   "source": [
    "# objective function\n",
    "problem += -factory_days[0]*cf0*f0 - factory_days[1]*cf1*f1 - factory_days[2]*cf2*f2"
   ]
  },
  {
   "cell_type": "code",
   "execution_count": 15,
   "metadata": {},
   "outputs": [
    {
     "name": "stdout",
     "output_type": "stream",
     "text": [
      "Your payment must be greater than accrued_interest which is 1.75.\n",
      "Your payment must be greater than accrued_interest which is 5.57.\n",
      "Your payment must be greater than accrued_interest which is 1.99.\n",
      "Your payment must be greater than accrued_interest which is 3.19.\n"
     ]
    }
   ],
   "source": [
    "# Objective Function\n",
    "empty = []\n",
    "\n",
    "for j in range(len(My_Loans)):\n",
    "    i = (APR[j]/12)/100\n",
    "    T = round(-(log(1-((PV[j]*i)/PMT[j])))/log(1+i))\n"
   ]
  },
  {
   "cell_type": "code",
   "execution_count": null,
   "metadata": {},
   "outputs": [],
   "source": []
  },
  {
   "cell_type": "code",
   "execution_count": null,
   "metadata": {},
   "outputs": [],
   "source": []
  },
  {
   "cell_type": "code",
   "execution_count": 15,
   "metadata": {},
   "outputs": [
    {
     "data": {
      "text/plain": [
       "[0, 0, 0, 0]"
      ]
     },
     "execution_count": 15,
     "metadata": {},
     "output_type": "execute_result"
    }
   ],
   "source": [
    "PMT = [0] * len(My_Loans)\n",
    "PMT"
   ]
  },
  {
   "cell_type": "raw",
   "metadata": {},
   "source": [
    "T1 = how_long(PV, APR, PMT1)\n",
    "T2 = how_long(PV, APR, PMT2)\n",
    "T3 = how_long(PV, APR, PMT3)"
   ]
  },
  {
   "cell_type": "markdown",
   "metadata": {},
   "source": [
    "Min(T) = how_long(PV1, APR1, PMT1) + how_long(PV2, APR2, PMT2) + how_long(PV3, APR3, PMT3)\n",
    "\n",
    "S.T.\n",
    "\n",
    "sum of PMTi > 0\n",
    "sum of PMTi < Affordable Payment\n",
    "PTMi < PVi"
   ]
  },
  {
   "cell_type": "code",
   "execution_count": null,
   "metadata": {},
   "outputs": [],
   "source": []
  },
  {
   "cell_type": "code",
   "execution_count": 17,
   "metadata": {},
   "outputs": [
    {
     "data": {
      "text/plain": [
       "350.59"
      ]
     },
     "execution_count": 17,
     "metadata": {},
     "output_type": "execute_result"
    }
   ],
   "source": [
    "# Constants\n",
    "\n",
    "# Principals"
   ]
  }
 ],
 "metadata": {
  "kernelspec": {
   "display_name": "Python 3",
   "language": "python",
   "name": "python3"
  },
  "language_info": {
   "codemirror_mode": {
    "name": "ipython",
    "version": 3
   },
   "file_extension": ".py",
   "mimetype": "text/x-python",
   "name": "python",
   "nbconvert_exporter": "python",
   "pygments_lexer": "ipython3",
   "version": "3.6.10"
  }
 },
 "nbformat": 4,
 "nbformat_minor": 2
}
